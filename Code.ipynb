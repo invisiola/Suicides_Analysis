{
  "nbformat": 4,
  "nbformat_minor": 0,
  "metadata": {
    "colab": {
      "name": "UTS Teknik Data Mining - Intan Amelia.ipynb",
      "provenance": [],
      "collapsed_sections": [
        "ZnA3YjKGYjTd"
      ]
    },
    "kernelspec": {
      "name": "python3",
      "display_name": "Python 3"
    },
    "language_info": {
      "name": "python"
    }
  },
  "cells": [
    {
      "cell_type": "markdown",
      "metadata": {
        "id": "s7eXh3ZJYPDv"
      },
      "source": [
        "# **UTS TEKNIK DATA MINING**\n",
        "Intan Amelia Sari - 2019104596"
      ]
    },
    {
      "cell_type": "markdown",
      "metadata": {
        "id": "TihV98KXMrxY"
      },
      "source": [
        "Data Genap : https://drive.google.com/drive/folders/1VI_pSqLUTC1Gi3EuaH0vTMQzX7L7xx5i\n",
        "\n",
        "Latar Belakang \n",
        "Data ini adalah data angka bunuh diri di berbagai negara, pada data ini terdapat 12 variabel sebagai berikut : \n",
        "- Country \n",
        "- Year\n",
        "- Sex/Gender\n",
        "- Age \n",
        "- Suicides_No = Angka bunuh diri\n",
        "- Population = Angka populasi \n",
        "- Suicides/100k pop = persentase angka bunuh diri per 100ribu populasi\n",
        "- Country year \n",
        "- HDI for year\n",
        "- GDP for year = GDP per tahun\n",
        "- GDP per capita = GDP per kapita\n",
        "- Generation "
      ]
    },
    {
      "cell_type": "markdown",
      "metadata": {
        "id": "ZnA3YjKGYjTd"
      },
      "source": [
        "# Data Acquisition\n",
        "Melakukan import library yang dibutuhkan untuk proses penelitian ini yang menggunakan bahasa pemograman Python 3."
      ]
    },
    {
      "cell_type": "code",
      "metadata": {
        "id": "K3ksEpuwXp6f"
      },
      "source": [
        "import pandas as pd\n",
        "import numpy as np\n",
        "import seaborn as sns                       #visualisation\n",
        "import matplotlib.pyplot as plt             #visualisation\n",
        "%matplotlib inline     \n",
        "sns.set(color_codes=True)"
      ],
      "execution_count": null,
      "outputs": []
    },
    {
      "cell_type": "markdown",
      "metadata": {
        "id": "nzI5zH8NYwrq"
      },
      "source": [
        "# Extract Raw Data from CSV\n",
        "Melakukan ekstrak data dari data csv menjadi sebuah data frame."
      ]
    },
    {
      "cell_type": "markdown",
      "metadata": {
        "id": "WLROyeHNY-t3"
      },
      "source": [
        "### Menampilkan 5 data teratas"
      ]
    },
    {
      "cell_type": "code",
      "metadata": {
        "colab": {
          "base_uri": "https://localhost:8080/",
          "height": 203
        },
        "id": "ghx-mXnPYzKA",
        "outputId": "e26b5550-1f3d-4991-a4be-9b6f5963fbe4"
      },
      "source": [
        "df = pd.read_csv('master.csv', delimiter = \",\");\n",
        "df.head(5)"
      ],
      "execution_count": null,
      "outputs": [
        {
          "output_type": "execute_result",
          "data": {
            "text/html": [
              "<div>\n",
              "<style scoped>\n",
              "    .dataframe tbody tr th:only-of-type {\n",
              "        vertical-align: middle;\n",
              "    }\n",
              "\n",
              "    .dataframe tbody tr th {\n",
              "        vertical-align: top;\n",
              "    }\n",
              "\n",
              "    .dataframe thead th {\n",
              "        text-align: right;\n",
              "    }\n",
              "</style>\n",
              "<table border=\"1\" class=\"dataframe\">\n",
              "  <thead>\n",
              "    <tr style=\"text-align: right;\">\n",
              "      <th></th>\n",
              "      <th>country</th>\n",
              "      <th>year</th>\n",
              "      <th>sex</th>\n",
              "      <th>age</th>\n",
              "      <th>suicides_no</th>\n",
              "      <th>population</th>\n",
              "      <th>suicides/100k pop</th>\n",
              "      <th>country-year</th>\n",
              "      <th>HDI for year</th>\n",
              "      <th>gdp_for_year ($)</th>\n",
              "      <th>gdp_per_capita ($)</th>\n",
              "      <th>generation</th>\n",
              "    </tr>\n",
              "  </thead>\n",
              "  <tbody>\n",
              "    <tr>\n",
              "      <th>0</th>\n",
              "      <td>Albania</td>\n",
              "      <td>1987</td>\n",
              "      <td>male</td>\n",
              "      <td>15-24 years</td>\n",
              "      <td>21</td>\n",
              "      <td>312900</td>\n",
              "      <td>6.71</td>\n",
              "      <td>Albania1987</td>\n",
              "      <td>NaN</td>\n",
              "      <td>2,156,624,900</td>\n",
              "      <td>796</td>\n",
              "      <td>Generation X</td>\n",
              "    </tr>\n",
              "    <tr>\n",
              "      <th>1</th>\n",
              "      <td>Albania</td>\n",
              "      <td>1987</td>\n",
              "      <td>male</td>\n",
              "      <td>35-54 years</td>\n",
              "      <td>16</td>\n",
              "      <td>308000</td>\n",
              "      <td>5.19</td>\n",
              "      <td>Albania1987</td>\n",
              "      <td>NaN</td>\n",
              "      <td>2,156,624,900</td>\n",
              "      <td>796</td>\n",
              "      <td>Silent</td>\n",
              "    </tr>\n",
              "    <tr>\n",
              "      <th>2</th>\n",
              "      <td>Albania</td>\n",
              "      <td>1987</td>\n",
              "      <td>female</td>\n",
              "      <td>15-24 years</td>\n",
              "      <td>14</td>\n",
              "      <td>289700</td>\n",
              "      <td>4.83</td>\n",
              "      <td>Albania1987</td>\n",
              "      <td>NaN</td>\n",
              "      <td>2,156,624,900</td>\n",
              "      <td>796</td>\n",
              "      <td>Generation X</td>\n",
              "    </tr>\n",
              "    <tr>\n",
              "      <th>3</th>\n",
              "      <td>Albania</td>\n",
              "      <td>1987</td>\n",
              "      <td>male</td>\n",
              "      <td>75+ years</td>\n",
              "      <td>1</td>\n",
              "      <td>21800</td>\n",
              "      <td>4.59</td>\n",
              "      <td>Albania1987</td>\n",
              "      <td>NaN</td>\n",
              "      <td>2,156,624,900</td>\n",
              "      <td>796</td>\n",
              "      <td>G.I. Generation</td>\n",
              "    </tr>\n",
              "    <tr>\n",
              "      <th>4</th>\n",
              "      <td>Albania</td>\n",
              "      <td>1987</td>\n",
              "      <td>male</td>\n",
              "      <td>25-34 years</td>\n",
              "      <td>9</td>\n",
              "      <td>274300</td>\n",
              "      <td>3.28</td>\n",
              "      <td>Albania1987</td>\n",
              "      <td>NaN</td>\n",
              "      <td>2,156,624,900</td>\n",
              "      <td>796</td>\n",
              "      <td>Boomers</td>\n",
              "    </tr>\n",
              "  </tbody>\n",
              "</table>\n",
              "</div>"
            ],
            "text/plain": [
              "   country  year  ... gdp_per_capita ($)       generation\n",
              "0  Albania  1987  ...                796     Generation X\n",
              "1  Albania  1987  ...                796           Silent\n",
              "2  Albania  1987  ...                796     Generation X\n",
              "3  Albania  1987  ...                796  G.I. Generation\n",
              "4  Albania  1987  ...                796          Boomers\n",
              "\n",
              "[5 rows x 12 columns]"
            ]
          },
          "metadata": {},
          "execution_count": 199
        }
      ]
    },
    {
      "cell_type": "markdown",
      "metadata": {
        "id": "C6QZn85kZLuy"
      },
      "source": [
        "### Menampilkan 5 data terbawah"
      ]
    },
    {
      "cell_type": "code",
      "metadata": {
        "colab": {
          "base_uri": "https://localhost:8080/",
          "height": 203
        },
        "id": "Kg-Vo7wTZPn_",
        "outputId": "dba1e869-6dc4-4aa4-a58f-b4a3c7547be8"
      },
      "source": [
        "df.tail()"
      ],
      "execution_count": null,
      "outputs": [
        {
          "output_type": "execute_result",
          "data": {
            "text/html": [
              "<div>\n",
              "<style scoped>\n",
              "    .dataframe tbody tr th:only-of-type {\n",
              "        vertical-align: middle;\n",
              "    }\n",
              "\n",
              "    .dataframe tbody tr th {\n",
              "        vertical-align: top;\n",
              "    }\n",
              "\n",
              "    .dataframe thead th {\n",
              "        text-align: right;\n",
              "    }\n",
              "</style>\n",
              "<table border=\"1\" class=\"dataframe\">\n",
              "  <thead>\n",
              "    <tr style=\"text-align: right;\">\n",
              "      <th></th>\n",
              "      <th>country</th>\n",
              "      <th>year</th>\n",
              "      <th>sex</th>\n",
              "      <th>age</th>\n",
              "      <th>suicides_no</th>\n",
              "      <th>population</th>\n",
              "      <th>suicides/100k pop</th>\n",
              "      <th>country-year</th>\n",
              "      <th>HDI for year</th>\n",
              "      <th>gdp_for_year ($)</th>\n",
              "      <th>gdp_per_capita ($)</th>\n",
              "      <th>generation</th>\n",
              "    </tr>\n",
              "  </thead>\n",
              "  <tbody>\n",
              "    <tr>\n",
              "      <th>27815</th>\n",
              "      <td>Uzbekistan</td>\n",
              "      <td>2014</td>\n",
              "      <td>female</td>\n",
              "      <td>35-54 years</td>\n",
              "      <td>107</td>\n",
              "      <td>3620833</td>\n",
              "      <td>2.96</td>\n",
              "      <td>Uzbekistan2014</td>\n",
              "      <td>0.675</td>\n",
              "      <td>63,067,077,179</td>\n",
              "      <td>2309</td>\n",
              "      <td>Generation X</td>\n",
              "    </tr>\n",
              "    <tr>\n",
              "      <th>27816</th>\n",
              "      <td>Uzbekistan</td>\n",
              "      <td>2014</td>\n",
              "      <td>female</td>\n",
              "      <td>75+ years</td>\n",
              "      <td>9</td>\n",
              "      <td>348465</td>\n",
              "      <td>2.58</td>\n",
              "      <td>Uzbekistan2014</td>\n",
              "      <td>0.675</td>\n",
              "      <td>63,067,077,179</td>\n",
              "      <td>2309</td>\n",
              "      <td>Silent</td>\n",
              "    </tr>\n",
              "    <tr>\n",
              "      <th>27817</th>\n",
              "      <td>Uzbekistan</td>\n",
              "      <td>2014</td>\n",
              "      <td>male</td>\n",
              "      <td>5-14 years</td>\n",
              "      <td>60</td>\n",
              "      <td>2762158</td>\n",
              "      <td>2.17</td>\n",
              "      <td>Uzbekistan2014</td>\n",
              "      <td>0.675</td>\n",
              "      <td>63,067,077,179</td>\n",
              "      <td>2309</td>\n",
              "      <td>Generation Z</td>\n",
              "    </tr>\n",
              "    <tr>\n",
              "      <th>27818</th>\n",
              "      <td>Uzbekistan</td>\n",
              "      <td>2014</td>\n",
              "      <td>female</td>\n",
              "      <td>5-14 years</td>\n",
              "      <td>44</td>\n",
              "      <td>2631600</td>\n",
              "      <td>1.67</td>\n",
              "      <td>Uzbekistan2014</td>\n",
              "      <td>0.675</td>\n",
              "      <td>63,067,077,179</td>\n",
              "      <td>2309</td>\n",
              "      <td>Generation Z</td>\n",
              "    </tr>\n",
              "    <tr>\n",
              "      <th>27819</th>\n",
              "      <td>Uzbekistan</td>\n",
              "      <td>2014</td>\n",
              "      <td>female</td>\n",
              "      <td>55-74 years</td>\n",
              "      <td>21</td>\n",
              "      <td>1438935</td>\n",
              "      <td>1.46</td>\n",
              "      <td>Uzbekistan2014</td>\n",
              "      <td>0.675</td>\n",
              "      <td>63,067,077,179</td>\n",
              "      <td>2309</td>\n",
              "      <td>Boomers</td>\n",
              "    </tr>\n",
              "  </tbody>\n",
              "</table>\n",
              "</div>"
            ],
            "text/plain": [
              "          country  year  ... gdp_per_capita ($)    generation\n",
              "27815  Uzbekistan  2014  ...               2309  Generation X\n",
              "27816  Uzbekistan  2014  ...               2309        Silent\n",
              "27817  Uzbekistan  2014  ...               2309  Generation Z\n",
              "27818  Uzbekistan  2014  ...               2309  Generation Z\n",
              "27819  Uzbekistan  2014  ...               2309       Boomers\n",
              "\n",
              "[5 rows x 12 columns]"
            ]
          },
          "metadata": {},
          "execution_count": 200
        }
      ]
    },
    {
      "cell_type": "markdown",
      "metadata": {
        "id": "A9IizoCGZY-0"
      },
      "source": [
        "### Melihat tipe data dari setiap fitur."
      ]
    },
    {
      "cell_type": "code",
      "metadata": {
        "colab": {
          "base_uri": "https://localhost:8080/"
        },
        "id": "3hb1ffS7aS2I",
        "outputId": "fa1bbd73-677a-4aff-8c1d-3829c45e7eff"
      },
      "source": [
        "df.dtypes"
      ],
      "execution_count": null,
      "outputs": [
        {
          "output_type": "execute_result",
          "data": {
            "text/plain": [
              "country                object\n",
              "year                    int64\n",
              "sex                    object\n",
              "age                    object\n",
              "suicides_no             int64\n",
              "population              int64\n",
              "suicides/100k pop     float64\n",
              "country-year           object\n",
              "HDI for year          float64\n",
              " gdp_for_year ($)      object\n",
              "gdp_per_capita ($)      int64\n",
              "generation             object\n",
              "dtype: object"
            ]
          },
          "metadata": {},
          "execution_count": 201
        }
      ]
    },
    {
      "cell_type": "markdown",
      "metadata": {
        "id": "OLWv3EQuaeOl"
      },
      "source": [
        "### Melihat total baris dan fitur."
      ]
    },
    {
      "cell_type": "code",
      "metadata": {
        "colab": {
          "base_uri": "https://localhost:8080/"
        },
        "id": "Ic7DZ6KWaw_1",
        "outputId": "555a0a63-4e44-474b-f199-31a61e1fade1"
      },
      "source": [
        "print(\"Total\", df.shape)\n",
        "print(\"Dari code diatas dapat diartikan bahwa data memiliki total 27.820 baris dan 12 fitur dari data ini.\")"
      ],
      "execution_count": null,
      "outputs": [
        {
          "output_type": "stream",
          "name": "stdout",
          "text": [
            "Total (27820, 12)\n",
            "Dari code diatas dapat diartikan bahwa data memiliki total 27.820 baris dan 12 fitur dari data ini.\n"
          ]
        }
      ]
    },
    {
      "cell_type": "markdown",
      "metadata": {
        "id": "hB6RaSakbNU8"
      },
      "source": [
        "# Data Preprocessing "
      ]
    },
    {
      "cell_type": "markdown",
      "metadata": {
        "id": "Z_Ud2T_3fD7_"
      },
      "source": [
        "## Data Cleaning\n"
      ]
    },
    {
      "cell_type": "markdown",
      "metadata": {
        "id": "QflQqTQ1Pzzl"
      },
      "source": [
        "### Menghilangkan Data Duplikat"
      ]
    },
    {
      "cell_type": "code",
      "metadata": {
        "colab": {
          "base_uri": "https://localhost:8080/"
        },
        "id": "d2OhgdCbfKby",
        "outputId": "bff51a15-2112-4e87-e5a2-94af3d4c471d"
      },
      "source": [
        "df.shape"
      ],
      "execution_count": null,
      "outputs": [
        {
          "output_type": "execute_result",
          "data": {
            "text/plain": [
              "(27820, 12)"
            ]
          },
          "metadata": {},
          "execution_count": 203
        }
      ]
    },
    {
      "cell_type": "code",
      "metadata": {
        "colab": {
          "base_uri": "https://localhost:8080/"
        },
        "id": "DZgOyWGqfS8e",
        "outputId": "e752778c-1bb1-4e06-d03f-f82e7ec8c824"
      },
      "source": [
        "duplicate_rows_df = df[df.duplicated()]\n",
        "print(\"number of duplicate rows: \", duplicate_rows_df.shape)"
      ],
      "execution_count": null,
      "outputs": [
        {
          "output_type": "stream",
          "name": "stdout",
          "text": [
            "number of duplicate rows:  (0, 12)\n"
          ]
        }
      ]
    },
    {
      "cell_type": "markdown",
      "metadata": {
        "id": "Qg92nZclffFi"
      },
      "source": [
        "Pada data ini tidak ditemukan data duplikat sama sekali. sehingga proses ini sudah selesai"
      ]
    },
    {
      "cell_type": "markdown",
      "metadata": {
        "id": "UD4tsEEsP4Iq"
      },
      "source": [
        "### Menghilangkan Missing Value "
      ]
    },
    {
      "cell_type": "code",
      "metadata": {
        "colab": {
          "base_uri": "https://localhost:8080/"
        },
        "id": "lzYe9FPJfqYc",
        "outputId": "59e22c58-19d4-42e6-c2fe-3de660d0aea9"
      },
      "source": [
        "print(df.isnull().sum())"
      ],
      "execution_count": null,
      "outputs": [
        {
          "output_type": "stream",
          "name": "stdout",
          "text": [
            "country                   0\n",
            "year                      0\n",
            "sex                       0\n",
            "age                       0\n",
            "suicides_no               0\n",
            "population                0\n",
            "suicides/100k pop         0\n",
            "country-year              0\n",
            "HDI for year          19456\n",
            " gdp_for_year ($)         0\n",
            "gdp_per_capita ($)        0\n",
            "generation                0\n",
            "dtype: int64\n"
          ]
        }
      ]
    },
    {
      "cell_type": "code",
      "metadata": {
        "colab": {
          "base_uri": "https://localhost:8080/"
        },
        "id": "DZnFIqAt02ag",
        "outputId": "c2cdf728-86ed-4952-d587-cd8d1200527c"
      },
      "source": [
        "df = df.dropna()    # Dropping the missing values.\n",
        "df.count()"
      ],
      "execution_count": null,
      "outputs": [
        {
          "output_type": "execute_result",
          "data": {
            "text/plain": [
              "country               8364\n",
              "year                  8364\n",
              "sex                   8364\n",
              "age                   8364\n",
              "suicides_no           8364\n",
              "population            8364\n",
              "suicides/100k pop     8364\n",
              "country-year          8364\n",
              "HDI for year          8364\n",
              " gdp_for_year ($)     8364\n",
              "gdp_per_capita ($)    8364\n",
              "generation            8364\n",
              "dtype: int64"
            ]
          },
          "metadata": {},
          "execution_count": 206
        }
      ]
    },
    {
      "cell_type": "code",
      "metadata": {
        "colab": {
          "base_uri": "https://localhost:8080/"
        },
        "id": "HBEu2Dp807DT",
        "outputId": "b1d17e78-fb4c-4f91-d550-a4ef09f200d0"
      },
      "source": [
        "print(df.isnull().sum())   # After dropping the values"
      ],
      "execution_count": null,
      "outputs": [
        {
          "output_type": "stream",
          "name": "stdout",
          "text": [
            "country               0\n",
            "year                  0\n",
            "sex                   0\n",
            "age                   0\n",
            "suicides_no           0\n",
            "population            0\n",
            "suicides/100k pop     0\n",
            "country-year          0\n",
            "HDI for year          0\n",
            " gdp_for_year ($)     0\n",
            "gdp_per_capita ($)    0\n",
            "generation            0\n",
            "dtype: int64\n"
          ]
        }
      ]
    },
    {
      "cell_type": "code",
      "metadata": {
        "colab": {
          "base_uri": "https://localhost:8080/"
        },
        "id": "OIa5NlrH0-mX",
        "outputId": "ae8b8f51-ab0b-422d-a7a5-6d2dd420223c"
      },
      "source": [
        "df.shape"
      ],
      "execution_count": null,
      "outputs": [
        {
          "output_type": "execute_result",
          "data": {
            "text/plain": [
              "(8364, 12)"
            ]
          },
          "metadata": {},
          "execution_count": 208
        }
      ]
    },
    {
      "cell_type": "code",
      "metadata": {
        "colab": {
          "base_uri": "https://localhost:8080/"
        },
        "id": "ToFTerNIR3-L",
        "outputId": "a37fa7cd-fcda-46ff-e963-587511dd51b8"
      },
      "source": [
        "print(\"Total\", df.shape)\n",
        "print(\"Dari code diatas dapat diartikan bahwa data memiliki total 8.364 baris dan 12 fitur dari data ini.\")"
      ],
      "execution_count": null,
      "outputs": [
        {
          "output_type": "stream",
          "name": "stdout",
          "text": [
            "Total (8364, 10)\n",
            "Dari code diatas dapat diartikan bahwa data memiliki total 8.364 baris dan 12 fitur dari data ini.\n"
          ]
        }
      ]
    },
    {
      "cell_type": "markdown",
      "metadata": {
        "id": "OjhlPGUNd7R6"
      },
      "source": [
        "## Data Selection"
      ]
    },
    {
      "cell_type": "markdown",
      "metadata": {
        "id": "9Hty0uA7QEIO"
      },
      "source": [
        "### Membuang Kolom yang Tidak Relevan"
      ]
    },
    {
      "cell_type": "markdown",
      "metadata": {
        "id": "EWxngJ44eAvO"
      },
      "source": [
        "Dalam data ini saya membuang kolom HDI for year dan country-year."
      ]
    },
    {
      "cell_type": "code",
      "metadata": {
        "id": "jFLxpQQ62FTk"
      },
      "source": [
        "df = df.drop(columns = {\"HDI for year\", \"country-year\"}, axis = 1)"
      ],
      "execution_count": null,
      "outputs": []
    },
    {
      "cell_type": "code",
      "metadata": {
        "colab": {
          "base_uri": "https://localhost:8080/"
        },
        "id": "pT9lfy9W2Qt7",
        "outputId": "4c88d386-9626-476e-fcc9-c07e3a9cf0df"
      },
      "source": [
        "df.shape"
      ],
      "execution_count": null,
      "outputs": [
        {
          "output_type": "execute_result",
          "data": {
            "text/plain": [
              "(8364, 10)"
            ]
          },
          "metadata": {},
          "execution_count": 210
        }
      ]
    },
    {
      "cell_type": "markdown",
      "metadata": {
        "id": "-5aC5094bQQB"
      },
      "source": [
        "## Data Integration\n"
      ]
    },
    {
      "cell_type": "markdown",
      "metadata": {
        "id": "Jnr_XysmQIqW"
      },
      "source": [
        "### Mengubah Nama Fitur"
      ]
    },
    {
      "cell_type": "code",
      "metadata": {
        "colab": {
          "base_uri": "https://localhost:8080/",
          "height": 203
        },
        "id": "gNUd5Nwcbwjl",
        "outputId": "239dbeb2-90cc-43eb-e502-789f475db912"
      },
      "source": [
        "# Rename fitur\n",
        "df = df.rename(columns={\n",
        "    \"sex\": \"gender\"\n",
        "    })\n",
        "df.head(5)"
      ],
      "execution_count": null,
      "outputs": [
        {
          "output_type": "execute_result",
          "data": {
            "text/html": [
              "<div>\n",
              "<style scoped>\n",
              "    .dataframe tbody tr th:only-of-type {\n",
              "        vertical-align: middle;\n",
              "    }\n",
              "\n",
              "    .dataframe tbody tr th {\n",
              "        vertical-align: top;\n",
              "    }\n",
              "\n",
              "    .dataframe thead th {\n",
              "        text-align: right;\n",
              "    }\n",
              "</style>\n",
              "<table border=\"1\" class=\"dataframe\">\n",
              "  <thead>\n",
              "    <tr style=\"text-align: right;\">\n",
              "      <th></th>\n",
              "      <th>country</th>\n",
              "      <th>year</th>\n",
              "      <th>gender</th>\n",
              "      <th>age</th>\n",
              "      <th>suicides_no</th>\n",
              "      <th>population</th>\n",
              "      <th>suicides/100k pop</th>\n",
              "      <th>gdp_for_year ($)</th>\n",
              "      <th>gdp_per_capita ($)</th>\n",
              "      <th>generation</th>\n",
              "    </tr>\n",
              "  </thead>\n",
              "  <tbody>\n",
              "    <tr>\n",
              "      <th>72</th>\n",
              "      <td>Albania</td>\n",
              "      <td>1995</td>\n",
              "      <td>male</td>\n",
              "      <td>25-34 years</td>\n",
              "      <td>13</td>\n",
              "      <td>232900</td>\n",
              "      <td>5.58</td>\n",
              "      <td>2,424,499,009</td>\n",
              "      <td>835</td>\n",
              "      <td>Generation X</td>\n",
              "    </tr>\n",
              "    <tr>\n",
              "      <th>73</th>\n",
              "      <td>Albania</td>\n",
              "      <td>1995</td>\n",
              "      <td>male</td>\n",
              "      <td>55-74 years</td>\n",
              "      <td>9</td>\n",
              "      <td>178000</td>\n",
              "      <td>5.06</td>\n",
              "      <td>2,424,499,009</td>\n",
              "      <td>835</td>\n",
              "      <td>Silent</td>\n",
              "    </tr>\n",
              "    <tr>\n",
              "      <th>74</th>\n",
              "      <td>Albania</td>\n",
              "      <td>1995</td>\n",
              "      <td>female</td>\n",
              "      <td>75+ years</td>\n",
              "      <td>2</td>\n",
              "      <td>40800</td>\n",
              "      <td>4.90</td>\n",
              "      <td>2,424,499,009</td>\n",
              "      <td>835</td>\n",
              "      <td>G.I. Generation</td>\n",
              "    </tr>\n",
              "    <tr>\n",
              "      <th>75</th>\n",
              "      <td>Albania</td>\n",
              "      <td>1995</td>\n",
              "      <td>female</td>\n",
              "      <td>15-24 years</td>\n",
              "      <td>13</td>\n",
              "      <td>283500</td>\n",
              "      <td>4.59</td>\n",
              "      <td>2,424,499,009</td>\n",
              "      <td>835</td>\n",
              "      <td>Generation X</td>\n",
              "    </tr>\n",
              "    <tr>\n",
              "      <th>76</th>\n",
              "      <td>Albania</td>\n",
              "      <td>1995</td>\n",
              "      <td>male</td>\n",
              "      <td>15-24 years</td>\n",
              "      <td>11</td>\n",
              "      <td>241200</td>\n",
              "      <td>4.56</td>\n",
              "      <td>2,424,499,009</td>\n",
              "      <td>835</td>\n",
              "      <td>Generation X</td>\n",
              "    </tr>\n",
              "  </tbody>\n",
              "</table>\n",
              "</div>"
            ],
            "text/plain": [
              "    country  year  ... gdp_per_capita ($)       generation\n",
              "72  Albania  1995  ...                835     Generation X\n",
              "73  Albania  1995  ...                835           Silent\n",
              "74  Albania  1995  ...                835  G.I. Generation\n",
              "75  Albania  1995  ...                835     Generation X\n",
              "76  Albania  1995  ...                835     Generation X\n",
              "\n",
              "[5 rows x 10 columns]"
            ]
          },
          "metadata": {},
          "execution_count": 211
        }
      ]
    },
    {
      "cell_type": "markdown",
      "metadata": {
        "id": "GLpZzuUJgFoG"
      },
      "source": [
        "# Data Descriptive"
      ]
    },
    {
      "cell_type": "markdown",
      "metadata": {
        "id": "xPc3P8SEgIe6"
      },
      "source": [
        "### Five Number Summary \n",
        "Menampilkan Nilai Miniminum, Maksimum, Mean, Median, Q1, Q3"
      ]
    },
    {
      "cell_type": "code",
      "metadata": {
        "colab": {
          "base_uri": "https://localhost:8080/",
          "height": 295
        },
        "id": "v-5AmXragLwG",
        "outputId": "719a63a8-6ddc-423a-fa10-ed5e90b13854"
      },
      "source": [
        "df.describe()"
      ],
      "execution_count": null,
      "outputs": [
        {
          "output_type": "execute_result",
          "data": {
            "text/html": [
              "<div>\n",
              "<style scoped>\n",
              "    .dataframe tbody tr th:only-of-type {\n",
              "        vertical-align: middle;\n",
              "    }\n",
              "\n",
              "    .dataframe tbody tr th {\n",
              "        vertical-align: top;\n",
              "    }\n",
              "\n",
              "    .dataframe thead th {\n",
              "        text-align: right;\n",
              "    }\n",
              "</style>\n",
              "<table border=\"1\" class=\"dataframe\">\n",
              "  <thead>\n",
              "    <tr style=\"text-align: right;\">\n",
              "      <th></th>\n",
              "      <th>year</th>\n",
              "      <th>suicides_no</th>\n",
              "      <th>population</th>\n",
              "      <th>suicides/100k pop</th>\n",
              "      <th>gdp_per_capita ($)</th>\n",
              "    </tr>\n",
              "  </thead>\n",
              "  <tbody>\n",
              "    <tr>\n",
              "      <th>count</th>\n",
              "      <td>8364.000000</td>\n",
              "      <td>8364.000000</td>\n",
              "      <td>8.364000e+03</td>\n",
              "      <td>8364.000000</td>\n",
              "      <td>8364.000000</td>\n",
              "    </tr>\n",
              "    <tr>\n",
              "      <th>mean</th>\n",
              "      <td>2005.348637</td>\n",
              "      <td>206.124342</td>\n",
              "      <td>1.852173e+06</td>\n",
              "      <td>11.991936</td>\n",
              "      <td>21074.371593</td>\n",
              "    </tr>\n",
              "    <tr>\n",
              "      <th>std</th>\n",
              "      <td>8.803020</td>\n",
              "      <td>681.004457</td>\n",
              "      <td>3.969754e+06</td>\n",
              "      <td>17.361772</td>\n",
              "      <td>22579.186968</td>\n",
              "    </tr>\n",
              "    <tr>\n",
              "      <th>min</th>\n",
              "      <td>1985.000000</td>\n",
              "      <td>0.000000</td>\n",
              "      <td>8.750000e+02</td>\n",
              "      <td>0.000000</td>\n",
              "      <td>313.000000</td>\n",
              "    </tr>\n",
              "    <tr>\n",
              "      <th>25%</th>\n",
              "      <td>2000.000000</td>\n",
              "      <td>3.000000</td>\n",
              "      <td>1.216425e+05</td>\n",
              "      <td>1.040000</td>\n",
              "      <td>4862.000000</td>\n",
              "    </tr>\n",
              "    <tr>\n",
              "      <th>50%</th>\n",
              "      <td>2010.000000</td>\n",
              "      <td>27.000000</td>\n",
              "      <td>4.722505e+05</td>\n",
              "      <td>5.720000</td>\n",
              "      <td>12584.000000</td>\n",
              "    </tr>\n",
              "    <tr>\n",
              "      <th>75%</th>\n",
              "      <td>2012.000000</td>\n",
              "      <td>127.250000</td>\n",
              "      <td>1.500290e+06</td>\n",
              "      <td>15.442500</td>\n",
              "      <td>30271.000000</td>\n",
              "    </tr>\n",
              "    <tr>\n",
              "      <th>max</th>\n",
              "      <td>2014.000000</td>\n",
              "      <td>11767.000000</td>\n",
              "      <td>4.350934e+07</td>\n",
              "      <td>187.060000</td>\n",
              "      <td>126352.000000</td>\n",
              "    </tr>\n",
              "  </tbody>\n",
              "</table>\n",
              "</div>"
            ],
            "text/plain": [
              "              year   suicides_no  ...  suicides/100k pop  gdp_per_capita ($)\n",
              "count  8364.000000   8364.000000  ...        8364.000000         8364.000000\n",
              "mean   2005.348637    206.124342  ...          11.991936        21074.371593\n",
              "std       8.803020    681.004457  ...          17.361772        22579.186968\n",
              "min    1985.000000      0.000000  ...           0.000000          313.000000\n",
              "25%    2000.000000      3.000000  ...           1.040000         4862.000000\n",
              "50%    2010.000000     27.000000  ...           5.720000        12584.000000\n",
              "75%    2012.000000    127.250000  ...          15.442500        30271.000000\n",
              "max    2014.000000  11767.000000  ...         187.060000       126352.000000\n",
              "\n",
              "[8 rows x 5 columns]"
            ]
          },
          "metadata": {},
          "execution_count": 212
        }
      ]
    },
    {
      "cell_type": "markdown",
      "metadata": {
        "id": "APQ5hBEgh6Q9"
      },
      "source": [
        "### Modus"
      ]
    },
    {
      "cell_type": "code",
      "metadata": {
        "colab": {
          "base_uri": "https://localhost:8080/",
          "height": 417
        },
        "id": "8T1hSWT1hvMm",
        "outputId": "f2762b90-2e34-4014-abdd-9a8f348b37f8"
      },
      "source": [
        "df.mode()"
      ],
      "execution_count": null,
      "outputs": [
        {
          "output_type": "execute_result",
          "data": {
            "text/html": [
              "<div>\n",
              "<style scoped>\n",
              "    .dataframe tbody tr th:only-of-type {\n",
              "        vertical-align: middle;\n",
              "    }\n",
              "\n",
              "    .dataframe tbody tr th {\n",
              "        vertical-align: top;\n",
              "    }\n",
              "\n",
              "    .dataframe thead th {\n",
              "        text-align: right;\n",
              "    }\n",
              "</style>\n",
              "<table border=\"1\" class=\"dataframe\">\n",
              "  <thead>\n",
              "    <tr style=\"text-align: right;\">\n",
              "      <th></th>\n",
              "      <th>country</th>\n",
              "      <th>year</th>\n",
              "      <th>gender</th>\n",
              "      <th>age</th>\n",
              "      <th>suicides_no</th>\n",
              "      <th>population</th>\n",
              "      <th>suicides/100k pop</th>\n",
              "      <th>gdp_for_year ($)</th>\n",
              "      <th>gdp_per_capita ($)</th>\n",
              "      <th>generation</th>\n",
              "    </tr>\n",
              "  </thead>\n",
              "  <tbody>\n",
              "    <tr>\n",
              "      <th>0</th>\n",
              "      <td>Argentina</td>\n",
              "      <td>2010.0</td>\n",
              "      <td>female</td>\n",
              "      <td>15-24 years</td>\n",
              "      <td>0.0</td>\n",
              "      <td>22000.0</td>\n",
              "      <td>0.0</td>\n",
              "      <td>1,057,801,282,051</td>\n",
              "      <td>996.0</td>\n",
              "      <td>Generation X</td>\n",
              "    </tr>\n",
              "    <tr>\n",
              "      <th>1</th>\n",
              "      <td>Austria</td>\n",
              "      <td>NaN</td>\n",
              "      <td>male</td>\n",
              "      <td>25-34 years</td>\n",
              "      <td>NaN</td>\n",
              "      <td>24000.0</td>\n",
              "      <td>NaN</td>\n",
              "      <td>1,059,498,884</td>\n",
              "      <td>4096.0</td>\n",
              "      <td>NaN</td>\n",
              "    </tr>\n",
              "    <tr>\n",
              "      <th>2</th>\n",
              "      <td>Belgium</td>\n",
              "      <td>NaN</td>\n",
              "      <td>NaN</td>\n",
              "      <td>35-54 years</td>\n",
              "      <td>NaN</td>\n",
              "      <td>NaN</td>\n",
              "      <td>NaN</td>\n",
              "      <td>1,065,826,670</td>\n",
              "      <td>4505.0</td>\n",
              "      <td>NaN</td>\n",
              "    </tr>\n",
              "    <tr>\n",
              "      <th>3</th>\n",
              "      <td>Brazil</td>\n",
              "      <td>NaN</td>\n",
              "      <td>NaN</td>\n",
              "      <td>5-14 years</td>\n",
              "      <td>NaN</td>\n",
              "      <td>NaN</td>\n",
              "      <td>NaN</td>\n",
              "      <td>1,080,642,033</td>\n",
              "      <td>6662.0</td>\n",
              "      <td>NaN</td>\n",
              "    </tr>\n",
              "    <tr>\n",
              "      <th>4</th>\n",
              "      <td>Bulgaria</td>\n",
              "      <td>NaN</td>\n",
              "      <td>NaN</td>\n",
              "      <td>55-74 years</td>\n",
              "      <td>NaN</td>\n",
              "      <td>NaN</td>\n",
              "      <td>NaN</td>\n",
              "      <td>1,093,169,389,205</td>\n",
              "      <td>8906.0</td>\n",
              "      <td>NaN</td>\n",
              "    </tr>\n",
              "    <tr>\n",
              "      <th>...</th>\n",
              "      <td>...</td>\n",
              "      <td>...</td>\n",
              "      <td>...</td>\n",
              "      <td>...</td>\n",
              "      <td>...</td>\n",
              "      <td>...</td>\n",
              "      <td>...</td>\n",
              "      <td>...</td>\n",
              "      <td>...</td>\n",
              "      <td>...</td>\n",
              "    </tr>\n",
              "    <tr>\n",
              "      <th>692</th>\n",
              "      <td>NaN</td>\n",
              "      <td>NaN</td>\n",
              "      <td>NaN</td>\n",
              "      <td>NaN</td>\n",
              "      <td>NaN</td>\n",
              "      <td>NaN</td>\n",
              "      <td>NaN</td>\n",
              "      <td>97,891,090,929</td>\n",
              "      <td>NaN</td>\n",
              "      <td>NaN</td>\n",
              "    </tr>\n",
              "    <tr>\n",
              "      <th>693</th>\n",
              "      <td>NaN</td>\n",
              "      <td>NaN</td>\n",
              "      <td>NaN</td>\n",
              "      <td>NaN</td>\n",
              "      <td>NaN</td>\n",
              "      <td>NaN</td>\n",
              "      <td>NaN</td>\n",
              "      <td>98,478,349,315</td>\n",
              "      <td>NaN</td>\n",
              "      <td>NaN</td>\n",
              "    </tr>\n",
              "    <tr>\n",
              "      <th>694</th>\n",
              "      <td>NaN</td>\n",
              "      <td>NaN</td>\n",
              "      <td>NaN</td>\n",
              "      <td>NaN</td>\n",
              "      <td>NaN</td>\n",
              "      <td>NaN</td>\n",
              "      <td>NaN</td>\n",
              "      <td>99,697,566,668</td>\n",
              "      <td>NaN</td>\n",
              "      <td>NaN</td>\n",
              "    </tr>\n",
              "    <tr>\n",
              "      <th>695</th>\n",
              "      <td>NaN</td>\n",
              "      <td>NaN</td>\n",
              "      <td>NaN</td>\n",
              "      <td>NaN</td>\n",
              "      <td>NaN</td>\n",
              "      <td>NaN</td>\n",
              "      <td>NaN</td>\n",
              "      <td>99,853,528,653</td>\n",
              "      <td>NaN</td>\n",
              "      <td>NaN</td>\n",
              "    </tr>\n",
              "    <tr>\n",
              "      <th>696</th>\n",
              "      <td>NaN</td>\n",
              "      <td>NaN</td>\n",
              "      <td>NaN</td>\n",
              "      <td>NaN</td>\n",
              "      <td>NaN</td>\n",
              "      <td>NaN</td>\n",
              "      <td>NaN</td>\n",
              "      <td>99,886,577,331</td>\n",
              "      <td>NaN</td>\n",
              "      <td>NaN</td>\n",
              "    </tr>\n",
              "  </tbody>\n",
              "</table>\n",
              "<p>697 rows × 10 columns</p>\n",
              "</div>"
            ],
            "text/plain": [
              "       country    year  ... gdp_per_capita ($)    generation\n",
              "0    Argentina  2010.0  ...              996.0  Generation X\n",
              "1      Austria     NaN  ...             4096.0           NaN\n",
              "2      Belgium     NaN  ...             4505.0           NaN\n",
              "3       Brazil     NaN  ...             6662.0           NaN\n",
              "4     Bulgaria     NaN  ...             8906.0           NaN\n",
              "..         ...     ...  ...                ...           ...\n",
              "692        NaN     NaN  ...                NaN           NaN\n",
              "693        NaN     NaN  ...                NaN           NaN\n",
              "694        NaN     NaN  ...                NaN           NaN\n",
              "695        NaN     NaN  ...                NaN           NaN\n",
              "696        NaN     NaN  ...                NaN           NaN\n",
              "\n",
              "[697 rows x 10 columns]"
            ]
          },
          "metadata": {},
          "execution_count": 213
        }
      ]
    },
    {
      "cell_type": "markdown",
      "metadata": {
        "id": "OYXrs5YFiSqy"
      },
      "source": [
        "### Mean"
      ]
    },
    {
      "cell_type": "code",
      "metadata": {
        "colab": {
          "base_uri": "https://localhost:8080/"
        },
        "id": "Ho2Rk7XOiZAs",
        "outputId": "db95fcd9-acd6-4805-d714-1895ea7a9510"
      },
      "source": [
        "df.mean()"
      ],
      "execution_count": null,
      "outputs": [
        {
          "output_type": "execute_result",
          "data": {
            "text/plain": [
              "year                  2.005349e+03\n",
              "suicides_no           2.061243e+02\n",
              "population            1.852173e+06\n",
              "suicides/100k pop     1.199194e+01\n",
              "gdp_per_capita ($)    2.107437e+04\n",
              "dtype: float64"
            ]
          },
          "metadata": {},
          "execution_count": 214
        }
      ]
    },
    {
      "cell_type": "markdown",
      "metadata": {
        "id": "5d_DnDgSiild"
      },
      "source": [
        "### Median "
      ]
    },
    {
      "cell_type": "code",
      "metadata": {
        "colab": {
          "base_uri": "https://localhost:8080/"
        },
        "id": "uvm0GKW9ikLo",
        "outputId": "2c18d74a-ecbf-4c8e-beba-1a695ec8def7"
      },
      "source": [
        "df.median()"
      ],
      "execution_count": null,
      "outputs": [
        {
          "output_type": "execute_result",
          "data": {
            "text/plain": [
              "year                    2010.00\n",
              "suicides_no               27.00\n",
              "population            472250.50\n",
              "suicides/100k pop          5.72\n",
              "gdp_per_capita ($)     12584.00\n",
              "dtype: float64"
            ]
          },
          "metadata": {},
          "execution_count": 215
        }
      ]
    },
    {
      "cell_type": "markdown",
      "metadata": {
        "id": "ESfLU21Ri10D"
      },
      "source": [
        "# Visualisasi "
      ]
    },
    {
      "cell_type": "code",
      "metadata": {
        "colab": {
          "base_uri": "https://localhost:8080/",
          "height": 203
        },
        "id": "6Oc_n-TZjBSG",
        "outputId": "e918b11f-9765-403b-dfbb-a64a3e767833"
      },
      "source": [
        "df.head()"
      ],
      "execution_count": null,
      "outputs": [
        {
          "output_type": "execute_result",
          "data": {
            "text/html": [
              "<div>\n",
              "<style scoped>\n",
              "    .dataframe tbody tr th:only-of-type {\n",
              "        vertical-align: middle;\n",
              "    }\n",
              "\n",
              "    .dataframe tbody tr th {\n",
              "        vertical-align: top;\n",
              "    }\n",
              "\n",
              "    .dataframe thead th {\n",
              "        text-align: right;\n",
              "    }\n",
              "</style>\n",
              "<table border=\"1\" class=\"dataframe\">\n",
              "  <thead>\n",
              "    <tr style=\"text-align: right;\">\n",
              "      <th></th>\n",
              "      <th>country</th>\n",
              "      <th>year</th>\n",
              "      <th>gender</th>\n",
              "      <th>age</th>\n",
              "      <th>suicides_no</th>\n",
              "      <th>population</th>\n",
              "      <th>suicides/100k pop</th>\n",
              "      <th>gdp_for_year ($)</th>\n",
              "      <th>gdp_per_capita ($)</th>\n",
              "      <th>generation</th>\n",
              "    </tr>\n",
              "  </thead>\n",
              "  <tbody>\n",
              "    <tr>\n",
              "      <th>72</th>\n",
              "      <td>Albania</td>\n",
              "      <td>1995</td>\n",
              "      <td>male</td>\n",
              "      <td>25-34 years</td>\n",
              "      <td>13</td>\n",
              "      <td>232900</td>\n",
              "      <td>5.58</td>\n",
              "      <td>2,424,499,009</td>\n",
              "      <td>835</td>\n",
              "      <td>Generation X</td>\n",
              "    </tr>\n",
              "    <tr>\n",
              "      <th>73</th>\n",
              "      <td>Albania</td>\n",
              "      <td>1995</td>\n",
              "      <td>male</td>\n",
              "      <td>55-74 years</td>\n",
              "      <td>9</td>\n",
              "      <td>178000</td>\n",
              "      <td>5.06</td>\n",
              "      <td>2,424,499,009</td>\n",
              "      <td>835</td>\n",
              "      <td>Silent</td>\n",
              "    </tr>\n",
              "    <tr>\n",
              "      <th>74</th>\n",
              "      <td>Albania</td>\n",
              "      <td>1995</td>\n",
              "      <td>female</td>\n",
              "      <td>75+ years</td>\n",
              "      <td>2</td>\n",
              "      <td>40800</td>\n",
              "      <td>4.90</td>\n",
              "      <td>2,424,499,009</td>\n",
              "      <td>835</td>\n",
              "      <td>G.I. Generation</td>\n",
              "    </tr>\n",
              "    <tr>\n",
              "      <th>75</th>\n",
              "      <td>Albania</td>\n",
              "      <td>1995</td>\n",
              "      <td>female</td>\n",
              "      <td>15-24 years</td>\n",
              "      <td>13</td>\n",
              "      <td>283500</td>\n",
              "      <td>4.59</td>\n",
              "      <td>2,424,499,009</td>\n",
              "      <td>835</td>\n",
              "      <td>Generation X</td>\n",
              "    </tr>\n",
              "    <tr>\n",
              "      <th>76</th>\n",
              "      <td>Albania</td>\n",
              "      <td>1995</td>\n",
              "      <td>male</td>\n",
              "      <td>15-24 years</td>\n",
              "      <td>11</td>\n",
              "      <td>241200</td>\n",
              "      <td>4.56</td>\n",
              "      <td>2,424,499,009</td>\n",
              "      <td>835</td>\n",
              "      <td>Generation X</td>\n",
              "    </tr>\n",
              "  </tbody>\n",
              "</table>\n",
              "</div>"
            ],
            "text/plain": [
              "    country  year  ... gdp_per_capita ($)       generation\n",
              "72  Albania  1995  ...                835     Generation X\n",
              "73  Albania  1995  ...                835           Silent\n",
              "74  Albania  1995  ...                835  G.I. Generation\n",
              "75  Albania  1995  ...                835     Generation X\n",
              "76  Albania  1995  ...                835     Generation X\n",
              "\n",
              "[5 rows x 10 columns]"
            ]
          },
          "metadata": {},
          "execution_count": 216
        }
      ]
    },
    {
      "cell_type": "code",
      "metadata": {
        "id": "oTY6NmDRjyj2"
      },
      "source": [
        "# Define Function\n",
        "\n",
        "def show_values_on_bars(axs, h_v=\"v\", space=0.4):\n",
        "    def _show_on_single_plot(ax):\n",
        "        if h_v == \"v\":\n",
        "            for p in ax.patches:\n",
        "                _x = p.get_x() + p.get_width() / 2\n",
        "                _y = p.get_y() + p.get_height()\n",
        "                value = int(p.get_height())\n",
        "                ax.text(_x, _y, value, ha=\"center\") \n",
        "        elif h_v == \"h\":\n",
        "            for p in ax.patches:\n",
        "                _x = p.get_x() + p.get_width() + float(space)\n",
        "                _y = p.get_y() + p.get_height()\n",
        "                value = int(p.get_width())\n",
        "                ax.text(_x, _y, value, ha=\"left\")\n",
        "\n",
        "    if isinstance(axs, np.ndarray):\n",
        "        for idx, ax in np.ndenumerate(axs):\n",
        "            _show_on_single_plot(ax)\n",
        "    else:\n",
        "        _show_on_single_plot(axs)"
      ],
      "execution_count": null,
      "outputs": []
    },
    {
      "cell_type": "markdown",
      "metadata": {
        "id": "Vjp4PNdHi3zh"
      },
      "source": [
        "## Histogram"
      ]
    },
    {
      "cell_type": "markdown",
      "metadata": {
        "id": "eRGVaSyl2v4a"
      },
      "source": [
        "### Bagaimana grafik tingkat bunuh diri per-tahun?"
      ]
    },
    {
      "cell_type": "code",
      "metadata": {
        "colab": {
          "base_uri": "https://localhost:8080/",
          "height": 373
        },
        "id": "FV8l9jmYjAFJ",
        "outputId": "e0669f66-4a2f-4536-9bb4-210cce7025e8"
      },
      "source": [
        "df.year.value_counts().nlargest(50).plot(kind='bar', figsize=(15,5))\n",
        "plt.title(\"Tingkat Bunuh Diri per Tahun\")\n",
        "plt.xlabel('Tahun')\n",
        "plt.ylabel('Tingkat Bunuh Diri');"
      ],
      "execution_count": null,
      "outputs": [
        {
          "output_type": "display_data",
          "data": {
            "image/png": "[encoded data removed]",
            "text/plain": [
              "<Figure size 1080x360 with 1 Axes>"
            ]
          },
          "metadata": {}
        }
      ]
    },
    {
      "cell_type": "markdown",
      "metadata": {
        "id": "DgqX-_oX90eA"
      },
      "source": [
        "Dari histogram diatas dapat disimpulkan bahwa angka bunuh diri tertinggi berada ditahun 2010, sedangkan angka bunuh diri terkecil ada di tahun 1985"
      ]
    },
    {
      "cell_type": "markdown",
      "metadata": {
        "id": "RPwA7Qmq3TOL"
      },
      "source": [
        "### Negara manakah yang paling banyak kasus bunuh dirinya? "
      ]
    },
    {
      "cell_type": "code",
      "metadata": {
        "colab": {
          "base_uri": "https://localhost:8080/",
          "height": 543
        },
        "id": "Crrp8lI6k3VH",
        "outputId": "c45fecc9-4fd8-49da-cb46-b0043133a5c6"
      },
      "source": [
        "df.country.value_counts().nlargest(50).plot(kind='bar', figsize=(17,7))\n",
        "plt.title(\"Tingkat Bunuh Diri per Negara\")\n",
        "plt.xlabel('Negara')\n",
        "plt.ylabel('Tingkat Bunuh Diri');"
      ],
      "execution_count": null,
      "outputs": [
        {
          "output_type": "display_data",
          "data": {
            "image/png": "[encoded data removed]",
            "text/plain": [
              "<Figure size 1224x504 with 1 Axes>"
            ]
          },
          "metadata": {}
        }
      ]
    },
    {
      "cell_type": "markdown",
      "metadata": {
        "id": "nf2fcEW8AY69"
      },
      "source": [
        "Dari histogram diatas, terdapat 3 tingkat angka bunuh diri. Tingkat 1 adalah negara yang memiliki angka bunuh diri tertinggi, tingkat 2 adalah negara dengan kasus bunuh diri kedua terbanyak, dan tingkat 3 negara dengan kasus bunuh diri yang lebih rendah. "
      ]
    },
    {
      "cell_type": "markdown",
      "metadata": {
        "id": "PpAztvF93og_"
      },
      "source": [
        "### Generasi manakah yang paling banyak melakukan aksi bunuh diri"
      ]
    },
    {
      "cell_type": "code",
      "metadata": {
        "colab": {
          "base_uri": "https://localhost:8080/",
          "height": 429
        },
        "id": "NrhMDArzsD3n",
        "outputId": "38438838-e5f6-42f6-f3a6-f22bef257a3d"
      },
      "source": [
        "df.generation.value_counts().nlargest(40).plot(kind='bar', figsize=(10,5))\n",
        "plt.title(\"Tingkat Bunuh Diri per Generasi\")\n",
        "plt.xlabel('Generasi')\n",
        "plt.ylabel('Tingkat Bunuh Diri');"
      ],
      "execution_count": null,
      "outputs": [
        {
          "output_type": "display_data",
          "data": {
            "image/png": "[encoded data removed]",
            "text/plain": [
              "<Figure size 720x360 with 1 Axes>"
            ]
          },
          "metadata": {}
        }
      ]
    },
    {
      "cell_type": "markdown",
      "metadata": {
        "id": "6PfGLfqfBAQT"
      },
      "source": [
        "Generasi X atau yang lahir pada tahun 1965-1980 adalah generasi dengan kasus bunuh diri tertinggi, sedangkan G.I generation memiliki kasus bunuh diri terendah, pada saat generasi G.I sedang berlangsung perang dunia ke-2, sehingga angka kematian tertinggi bukan disebabkan oleh bunuh diri melainkan karena perang dunia"
      ]
    },
    {
      "cell_type": "markdown",
      "metadata": {
        "id": "zPkq0U-8uN_S"
      },
      "source": [
        "## Bar Plot"
      ]
    },
    {
      "cell_type": "markdown",
      "metadata": {
        "id": "73LnBfXr3951"
      },
      "source": [
        "### Bagaimana perbandingan angka bunuh diri berdasarkan jenis kelamin? "
      ]
    },
    {
      "cell_type": "code",
      "metadata": {
        "colab": {
          "base_uri": "https://localhost:8080/",
          "height": 355
        },
        "id": "xTKqdwjVjbIi",
        "outputId": "e54f410c-3e40-41c6-b29b-8061a09fd968"
      },
      "source": [
        "datagender = df[\"gender\"].unique()\n",
        "data = []\n",
        "\n",
        "for c in datagender:\n",
        "    d = df[df[\"gender\"] == c]\n",
        "    Sum = d[\"suicides_no\"].sum()\n",
        "    data.append([c, Sum])\n",
        "    \n",
        "dt = pd.DataFrame(data, columns = [\"Gender\", \"Total\"])\n",
        "\n",
        "plt.figure(figsize=(10,5))\n",
        "plt.title(\"Angka Bunuh Diri Berdasarkan Gender\")\n",
        "\n",
        "ax = sns.barplot(x=\"Gender\", y=\"Total\", data=dt)\n",
        "        \n",
        "show_values_on_bars(ax, \"v\", 0.10)"
      ],
      "execution_count": null,
      "outputs": [
        {
          "output_type": "display_data",
          "data": {
            "image/png": "[encoded data removed]",
            "text/plain": [
              "<Figure size 720x360 with 1 Axes>"
            ]
          },
          "metadata": {}
        }
      ]
    },
    {
      "cell_type": "markdown",
      "metadata": {
        "id": "1Wo7yeVoCX9u"
      },
      "source": [
        "Melihat dari data diatas, sudah terlihat jelas bahwa yang paling banyak melakukan bunuh diri adalah mereka yang berjenis kelamin laki-laki. Menurut penelitian, wanita lebih sering mengalami depresi namun wanita lebih bisa meluapkan emosinya dan lebih sering bercerita kepada orang lain. Wanita memiliki angka percobaan bunuh diri lebih besar dibanding laki-laki, namun cara laki-laki bunuh diri lebih ekstrim dibanding perempuan. oleh karena itu, tingkat bunuh diri laki-laki sangat tinggi, jika dibandingkan dengan wanita angka tersebut sangat signifikan bedanya. "
      ]
    },
    {
      "cell_type": "markdown",
      "metadata": {
        "id": "0DYe76X5RIpy"
      },
      "source": [
        "### Bagaimana tingkat bunuh diri berdasarkan Usia? "
      ]
    },
    {
      "cell_type": "code",
      "metadata": {
        "colab": {
          "base_uri": "https://localhost:8080/",
          "height": 355
        },
        "id": "Ia9fGbRtLJKL",
        "outputId": "2de0222c-c03b-4adf-d1cb-a34715e2ab24"
      },
      "source": [
        "dataage = df[\"age\"].unique()\n",
        "data = []\n",
        "\n",
        "for c in dataage:\n",
        "    d = df[df[\"age\"] == c]\n",
        "    Sum = d[\"suicides_no\"].sum()\n",
        "    data.append([c, Sum])\n",
        "    \n",
        "dt = pd.DataFrame(data, columns = [\"Usia\", \"Total\"])\n",
        "\n",
        "plt.figure(figsize=(10,5))\n",
        "plt.title(\"Angka Bunuh Diri Berdasarkan Usia\")\n",
        "\n",
        "ax = sns.barplot(x=\"Usia\", y=\"Total\", data=dt)\n",
        "        \n",
        "show_values_on_bars(ax, \"v\", 0.10)"
      ],
      "execution_count": null,
      "outputs": [
        {
          "output_type": "display_data",
          "data": {
            "image/png": "[encoded data removed]",
            "text/plain": [
              "<Figure size 720x360 with 1 Axes>"
            ]
          },
          "metadata": {}
        }
      ]
    },
    {
      "cell_type": "markdown",
      "metadata": {
        "id": "70zgX29rLtgr"
      },
      "source": [
        "Pada Bar Plot ini dapat disimpulkan bahwa rentang umur yang melakukan bunuh diri terbanyak adalah umur 35 - 54 Tahun dan rentang umur yang paling sedikit adalah umur 5 - 14 Tahun."
      ]
    },
    {
      "cell_type": "markdown",
      "metadata": {
        "id": "eIf85cvO4JOz"
      },
      "source": [
        "### Bagaimana tingkat bunuh diri per-generasi berdasarkan gender? "
      ]
    },
    {
      "cell_type": "code",
      "metadata": {
        "colab": {
          "base_uri": "https://localhost:8080/",
          "height": 447
        },
        "id": "3dp5JuoEro7H",
        "outputId": "9818368a-8dce-448f-bec7-355afec4ffda"
      },
      "source": [
        "datagen = df[\"generation\"].unique()\n",
        "data = []\n",
        "\n",
        "for c in datagen:\n",
        "    d = df[df[\"generation\"] == c]\n",
        "    gender_male = d[\"gender\"].str.count(\"male\").sum()\n",
        "    gender_female = d[\"gender\"].str.count(\"female\").sum()\n",
        "    data.append([c, gender_male, gender_female])\n",
        "\n",
        "dt = pd.DataFrame(data, columns = [\"gender\", \"male\", \"female\"])\n",
        "dtgen = []\n",
        "dtmale = []\n",
        "dtfemale = []\n",
        "\n",
        "for h in dt[\"gender\"]:\n",
        "    dtgen.append(h)\n",
        "\n",
        "for j in dt[\"male\"]:\n",
        "    dtmale.append(j)\n",
        "    \n",
        "for q in dt[\"female\"]:\n",
        "    dtfemale.append(q)\n",
        "\n",
        "\n",
        "dts = pd.DataFrame({'male': dtmale, 'female': dtfemale}, index = dtgen)\n",
        "ax = dts.plot.barh(figsize=(10,7), title=\"Tingkat Bunuh Diri per-Generasi Berdasarkan Jenis Kelamin\")\n",
        "        \n",
        "show_values_on_bars(ax, \"h\", 0.10)"
      ],
      "execution_count": null,
      "outputs": [
        {
          "output_type": "display_data",
          "data": {
            "image/png": "[encoded data removed]",
            "text/plain": [
              "<Figure size 720x504 with 1 Axes>"
            ]
          },
          "metadata": {}
        }
      ]
    },
    {
      "cell_type": "markdown",
      "metadata": {
        "id": "Jk3EeZ1rD28d"
      },
      "source": [
        "Dari data diatas, dapat disimpulkan bahwa angka bunuh diri tertinggi adalah generation x pada jenis kelamin laki-laki, disusul oleh generasi millenials dengan jenis kelamin laki-laki juga. "
      ]
    },
    {
      "cell_type": "markdown",
      "metadata": {
        "id": "dWvS79sBp-ci"
      },
      "source": [
        "## Box Plot"
      ]
    },
    {
      "cell_type": "markdown",
      "metadata": {
        "id": "HepLHKRvxP96"
      },
      "source": [
        "### Box Plot Year"
      ]
    },
    {
      "cell_type": "code",
      "metadata": {
        "colab": {
          "base_uri": "https://localhost:8080/",
          "height": 302
        },
        "id": "81vXX2-qo1Xv",
        "outputId": "a7be233e-ef06-4c07-9fa6-39df412f191d"
      },
      "source": [
        "sns.boxplot(x=df['year'])"
      ],
      "execution_count": null,
      "outputs": [
        {
          "output_type": "execute_result",
          "data": {
            "text/plain": [
              "<matplotlib.axes._subplots.AxesSubplot at 0x7f6716028890>"
            ]
          },
          "metadata": {},
          "execution_count": 225
        },
        {
          "output_type": "display_data",
          "data": {
            "image/png": "[encoded data removed]",
            "text/plain": [
              "<Figure size 432x288 with 1 Axes>"
            ]
          },
          "metadata": {}
        }
      ]
    },
    {
      "cell_type": "markdown",
      "metadata": {
        "id": "2CPf6y8CxX33"
      },
      "source": [
        "### Boxplot Angka Bunuh Diri"
      ]
    },
    {
      "cell_type": "code",
      "metadata": {
        "colab": {
          "base_uri": "https://localhost:8080/",
          "height": 302
        },
        "id": "5ei6FJ17o6UI",
        "outputId": "83e9e80c-2ea9-4876-9763-5f8c09537bb3"
      },
      "source": [
        "sns.boxplot(x=df['suicides_no'])"
      ],
      "execution_count": null,
      "outputs": [
        {
          "output_type": "execute_result",
          "data": {
            "text/plain": [
              "<matplotlib.axes._subplots.AxesSubplot at 0x7f6715e8d150>"
            ]
          },
          "metadata": {},
          "execution_count": 227
        },
        {
          "output_type": "display_data",
          "data": {
            "image/png": "[encoded data removed]",
            "text/plain": [
              "<Figure size 432x288 with 1 Axes>"
            ]
          },
          "metadata": {}
        }
      ]
    },
    {
      "cell_type": "markdown",
      "metadata": {
        "id": "W5_AgrnixlAb"
      },
      "source": [
        "### Box Plot Population"
      ]
    },
    {
      "cell_type": "code",
      "metadata": {
        "colab": {
          "base_uri": "https://localhost:8080/",
          "height": 302
        },
        "id": "D1H5v7ngpGyk",
        "outputId": "625f5b9a-509e-4364-ebad-8eb7407a96de"
      },
      "source": [
        "sns.boxplot(x=df['population'])"
      ],
      "execution_count": null,
      "outputs": [
        {
          "output_type": "execute_result",
          "data": {
            "text/plain": [
              "<matplotlib.axes._subplots.AxesSubplot at 0x7f6715dfe9d0>"
            ]
          },
          "metadata": {},
          "execution_count": 229
        },
        {
          "output_type": "display_data",
          "data": {
            "image/png": "[encoded data removed]",
            "text/plain": [
              "<Figure size 432x288 with 1 Axes>"
            ]
          },
          "metadata": {}
        }
      ]
    },
    {
      "cell_type": "markdown",
      "metadata": {
        "id": "srQHQRf1xoI_"
      },
      "source": [
        "### Box Plot Persentase Bunuh Diri per 100ribu populasi "
      ]
    },
    {
      "cell_type": "code",
      "metadata": {
        "colab": {
          "base_uri": "https://localhost:8080/",
          "height": 302
        },
        "id": "moO7zQc3pU-o",
        "outputId": "f03d286e-1029-47d9-e6c0-80d6ac1f0f4c"
      },
      "source": [
        "sns.boxplot(x=df['suicides/100k pop'])"
      ],
      "execution_count": null,
      "outputs": [
        {
          "output_type": "execute_result",
          "data": {
            "text/plain": [
              "<matplotlib.axes._subplots.AxesSubplot at 0x7f6715d751d0>"
            ]
          },
          "metadata": {},
          "execution_count": 231
        },
        {
          "output_type": "display_data",
          "data": {
            "image/png": "[encoded data removed]",
            "text/plain": [
              "<Figure size 432x288 with 1 Axes>"
            ]
          },
          "metadata": {}
        }
      ]
    },
    {
      "cell_type": "markdown",
      "metadata": {
        "id": "C0oJb21Lx3jt"
      },
      "source": [
        "### Box Plot Angka GDP per Capita"
      ]
    },
    {
      "cell_type": "code",
      "metadata": {
        "colab": {
          "base_uri": "https://localhost:8080/",
          "height": 302
        },
        "id": "6Pgb1RxDpiiR",
        "outputId": "9822b3ea-fe52-4d85-c5a1-5de01781546b"
      },
      "source": [
        "sns.boxplot(x=df['gdp_per_capita ($)'])"
      ],
      "execution_count": null,
      "outputs": [
        {
          "output_type": "execute_result",
          "data": {
            "text/plain": [
              "<matplotlib.axes._subplots.AxesSubplot at 0x7f6715cd7490>"
            ]
          },
          "metadata": {},
          "execution_count": 233
        },
        {
          "output_type": "display_data",
          "data": {
            "image/png": "[encoded data removed]",
            "text/plain": [
              "<Figure size 432x288 with 1 Axes>"
            ]
          },
          "metadata": {}
        }
      ]
    },
    {
      "cell_type": "markdown",
      "metadata": {
        "id": "sR636rZkyGAL"
      },
      "source": [
        "## Scatter Plot"
      ]
    },
    {
      "cell_type": "markdown",
      "metadata": {
        "id": "Ozbgf4zKJees"
      },
      "source": [
        "### Bagaimana korelasi antara jumlah populasi dengan angka bunuh diri? "
      ]
    },
    {
      "cell_type": "code",
      "metadata": {
        "colab": {
          "base_uri": "https://localhost:8080/",
          "height": 611
        },
        "id": "xpKT0NKjqH8r",
        "outputId": "c605347f-7571-46ad-c971-9b5c92be5b22"
      },
      "source": [
        "fig, ax = plt.subplots(figsize=(10,10))\n",
        "ax.scatter(df['population'], df['suicides_no'])\n",
        "ax.set_xlabel('Populasi')\n",
        "ax.set_ylabel('Angka Bunuh Diri')\n",
        "plt.show()"
      ],
      "execution_count": null,
      "outputs": [
        {
          "output_type": "display_data",
          "data": {
            "image/png": "[encoded data removed]",
            "text/plain": [
              "<Figure size 720x720 with 1 Axes>"
            ]
          },
          "metadata": {}
        }
      ]
    },
    {
      "cell_type": "markdown",
      "metadata": {
        "id": "-UCcrdOkI6G6"
      },
      "source": [
        "Jumlah Populasi dengan angka bunuh diri memiliki hubungan atau korelasi positif yang artinya semakin banyak populasinya maka angka bunuh dirinya juga tinggi. begitu juga sebaliknya, jika jumlah populasinya sedikit maka angka bunuh dirinya juga lebih sedikit. "
      ]
    },
    {
      "cell_type": "code",
      "metadata": {
        "colab": {
          "base_uri": "https://localhost:8080/",
          "height": 611
        },
        "id": "gJQEh-WuJxte",
        "outputId": "4177bd55-6adb-4e37-a92f-cb7e5ee38834"
      },
      "source": [
        "fig, ax = plt.subplots(figsize=(10,10))\n",
        "ax.scatter(df['gdp_per_capita ($)'], df['suicides_no'])\n",
        "ax.set_xlabel('GDP per Capita')\n",
        "ax.set_ylabel('Angka Bunuh Diri')\n",
        "plt.show()"
      ],
      "execution_count": null,
      "outputs": [
        {
          "output_type": "display_data",
          "data": {
            "image/png": "[encoded data removed]",
            "text/plain": [
              "<Figure size 720x720 with 1 Axes>"
            ]
          },
          "metadata": {}
        }
      ]
    },
    {
      "cell_type": "markdown",
      "metadata": {
        "id": "Ew7mzaAYKMsX"
      },
      "source": [
        "dari scatter plot diatas dapat disimpulkan bahwa angka GDP tidak memiliki korelasi dengan tinggi/rendahnya kasus bunuh diri disuatu negara."
      ]
    },
    {
      "cell_type": "markdown",
      "metadata": {
        "id": "Ae-cjSBS490O"
      },
      "source": [
        "# Pie Chart"
      ]
    },
    {
      "cell_type": "markdown",
      "metadata": {
        "id": "dsFi06AF8PkB"
      },
      "source": [
        "### Perbandingan tingkat bunuh diri berdasarkan gender"
      ]
    },
    {
      "cell_type": "code",
      "metadata": {
        "colab": {
          "base_uri": "https://localhost:8080/",
          "height": 433
        },
        "id": "ECE2Caey5fvB",
        "outputId": "1e663b95-440e-4d41-b13e-5660b232c7c1"
      },
      "source": [
        "datagender = df[\"gender\"].unique()\n",
        "data = [];\n",
        "\n",
        "for s in datagender:\n",
        "    tot = df[\"gender\"].str.count(s).sum()\n",
        "    data.append([s, tot])\n",
        "\n",
        "data = pd.DataFrame(data, columns = [\"Gender\", \"Total\"])\n",
        "\n",
        "value = data[\"Total\"]\n",
        "labels = data[\"Gender\"]\n",
        "plt.pie(value, labels = labels, autopct = \"%1.1f%%\", radius=2, startangle=90)\n",
        "plt.axes().set_aspect(\"equal\")\n",
        "plt.show()"
      ],
      "execution_count": null,
      "outputs": [
        {
          "output_type": "stream",
          "name": "stderr",
          "text": [
            "/usr/local/lib/python3.7/dist-packages/ipykernel_launcher.py:13: MatplotlibDeprecationWarning: Adding an axes using the same arguments as a previous axes currently reuses the earlier instance.  In a future version, a new instance will always be created and returned.  Meanwhile, this warning can be suppressed, and the future behavior ensured, by passing a unique label to each axes instance.\n",
            "  del sys.path[0]\n"
          ]
        },
        {
          "output_type": "display_data",
          "data": {
            "image/png": "[encoded data removed]",
            "text/plain": [
              "<Figure size 432x288 with 1 Axes>"
            ]
          },
          "metadata": {}
        }
      ]
    },
    {
      "cell_type": "markdown",
      "metadata": {
        "id": "7qdMr7yhF4cV"
      },
      "source": [
        "Laki-laki memiliki tingkat bunuh diri sebesar 66,7% sedangkan wnaita hanya 33,3%"
      ]
    },
    {
      "cell_type": "markdown",
      "metadata": {
        "id": "1WAoo3_p8Zvg"
      },
      "source": [
        "### Perbandingan tingkat bunuh diri berdasarkan generasi"
      ]
    },
    {
      "cell_type": "code",
      "metadata": {
        "colab": {
          "base_uri": "https://localhost:8080/",
          "height": 468
        },
        "id": "asOnKJjT5oWe",
        "outputId": "9ccd446f-9854-4503-dacf-902ac0792146"
      },
      "source": [
        "datagen = df[\"generation\"].unique()\n",
        "data = [];\n",
        "\n",
        "for s in datagen:\n",
        "    tot = df[\"generation\"].str.count(s).sum()\n",
        "    data.append([s, tot])\n",
        "\n",
        "data = pd.DataFrame(data, columns = [\"Generation\", \"Total\"])\n",
        "\n",
        "value = data[\"Total\"]\n",
        "labels = data[\"Generation\"]\n",
        "plt.pie(value, labels = labels, autopct = \"%1.1f%%\", radius=2, startangle=90)\n",
        "plt.axes().set_aspect(\"equal\")\n",
        "plt.show()"
      ],
      "execution_count": null,
      "outputs": [
        {
          "output_type": "stream",
          "name": "stderr",
          "text": [
            "/usr/local/lib/python3.7/dist-packages/ipykernel_launcher.py:13: MatplotlibDeprecationWarning: Adding an axes using the same arguments as a previous axes currently reuses the earlier instance.  In a future version, a new instance will always be created and returned.  Meanwhile, this warning can be suppressed, and the future behavior ensured, by passing a unique label to each axes instance.\n",
            "  del sys.path[0]\n"
          ]
        },
        {
          "output_type": "display_data",
          "data": {
            "image/png": "[encoded data removed]",
            "text/plain": [
              "<Figure size 432x288 with 1 Axes>"
            ]
          },
          "metadata": {}
        }
      ]
    },
    {
      "cell_type": "markdown",
      "metadata": {
        "id": "8euDLWKtGGBg"
      },
      "source": [
        "Generasi x adalah generasi yang memiliki tingkat bunuh diri tertinggi sebesar 24,1%, dilanjutkan oleh generaasi millenials sebesar 23,8%. Sedangkan generasi G.I adalah generasi yang memiliki tingkat bunuh diri terrendah. "
      ]
    },
    {
      "cell_type": "markdown",
      "metadata": {
        "id": "tsSiREqG6dn_"
      },
      "source": [
        "# Line Chart"
      ]
    },
    {
      "cell_type": "code",
      "metadata": {
        "colab": {
          "base_uri": "https://localhost:8080/",
          "height": 203
        },
        "id": "3WOPvbZ16mZ1",
        "outputId": "aa945c66-13f5-4c4d-cfef-26be184b4111"
      },
      "source": [
        "df.head()"
      ],
      "execution_count": null,
      "outputs": [
        {
          "output_type": "execute_result",
          "data": {
            "text/html": [
              "<div>\n",
              "<style scoped>\n",
              "    .dataframe tbody tr th:only-of-type {\n",
              "        vertical-align: middle;\n",
              "    }\n",
              "\n",
              "    .dataframe tbody tr th {\n",
              "        vertical-align: top;\n",
              "    }\n",
              "\n",
              "    .dataframe thead th {\n",
              "        text-align: right;\n",
              "    }\n",
              "</style>\n",
              "<table border=\"1\" class=\"dataframe\">\n",
              "  <thead>\n",
              "    <tr style=\"text-align: right;\">\n",
              "      <th></th>\n",
              "      <th>country</th>\n",
              "      <th>year</th>\n",
              "      <th>gender</th>\n",
              "      <th>age</th>\n",
              "      <th>suicides_no</th>\n",
              "      <th>population</th>\n",
              "      <th>suicides/100k pop</th>\n",
              "      <th>gdp_for_year ($)</th>\n",
              "      <th>gdp_per_capita ($)</th>\n",
              "      <th>generation</th>\n",
              "    </tr>\n",
              "  </thead>\n",
              "  <tbody>\n",
              "    <tr>\n",
              "      <th>72</th>\n",
              "      <td>Albania</td>\n",
              "      <td>1995</td>\n",
              "      <td>male</td>\n",
              "      <td>25-34 years</td>\n",
              "      <td>13</td>\n",
              "      <td>232900</td>\n",
              "      <td>5.58</td>\n",
              "      <td>2,424,499,009</td>\n",
              "      <td>835</td>\n",
              "      <td>Generation X</td>\n",
              "    </tr>\n",
              "    <tr>\n",
              "      <th>73</th>\n",
              "      <td>Albania</td>\n",
              "      <td>1995</td>\n",
              "      <td>male</td>\n",
              "      <td>55-74 years</td>\n",
              "      <td>9</td>\n",
              "      <td>178000</td>\n",
              "      <td>5.06</td>\n",
              "      <td>2,424,499,009</td>\n",
              "      <td>835</td>\n",
              "      <td>Silent</td>\n",
              "    </tr>\n",
              "    <tr>\n",
              "      <th>74</th>\n",
              "      <td>Albania</td>\n",
              "      <td>1995</td>\n",
              "      <td>female</td>\n",
              "      <td>75+ years</td>\n",
              "      <td>2</td>\n",
              "      <td>40800</td>\n",
              "      <td>4.90</td>\n",
              "      <td>2,424,499,009</td>\n",
              "      <td>835</td>\n",
              "      <td>G.I. Generation</td>\n",
              "    </tr>\n",
              "    <tr>\n",
              "      <th>75</th>\n",
              "      <td>Albania</td>\n",
              "      <td>1995</td>\n",
              "      <td>female</td>\n",
              "      <td>15-24 years</td>\n",
              "      <td>13</td>\n",
              "      <td>283500</td>\n",
              "      <td>4.59</td>\n",
              "      <td>2,424,499,009</td>\n",
              "      <td>835</td>\n",
              "      <td>Generation X</td>\n",
              "    </tr>\n",
              "    <tr>\n",
              "      <th>76</th>\n",
              "      <td>Albania</td>\n",
              "      <td>1995</td>\n",
              "      <td>male</td>\n",
              "      <td>15-24 years</td>\n",
              "      <td>11</td>\n",
              "      <td>241200</td>\n",
              "      <td>4.56</td>\n",
              "      <td>2,424,499,009</td>\n",
              "      <td>835</td>\n",
              "      <td>Generation X</td>\n",
              "    </tr>\n",
              "  </tbody>\n",
              "</table>\n",
              "</div>"
            ],
            "text/plain": [
              "    country  year  ... gdp_per_capita ($)       generation\n",
              "72  Albania  1995  ...                835     Generation X\n",
              "73  Albania  1995  ...                835           Silent\n",
              "74  Albania  1995  ...                835  G.I. Generation\n",
              "75  Albania  1995  ...                835     Generation X\n",
              "76  Albania  1995  ...                835     Generation X\n",
              "\n",
              "[5 rows x 10 columns]"
            ]
          },
          "metadata": {},
          "execution_count": 239
        }
      ]
    },
    {
      "cell_type": "markdown",
      "metadata": {
        "id": "9o1TgHv68wYv"
      },
      "source": [
        "### Pada tahun berapakah tingkat bunuh diri tertinggi?"
      ]
    },
    {
      "cell_type": "code",
      "metadata": {
        "colab": {
          "base_uri": "https://localhost:8080/",
          "height": 355
        },
        "id": "gatGwM6RHOhX",
        "outputId": "2e04cd03-3de2-4208-8e03-cd5a26c244b6"
      },
      "source": [
        "datayear = df[\"year\"].unique()\n",
        "data = []\n",
        "\n",
        "for c in datayear:\n",
        "    d = df[df[\"year\"] == c]\n",
        "    counts = d[\"suicides_no\"].count()\n",
        "    data.append([c, counts])\n",
        "\n",
        "data = pd.DataFrame(data, columns = [\"Year\", \"Total\"])\n",
        "get = data.head(40)\n",
        "\n",
        "plt.figure(figsize=(10,5))\n",
        "plt.title(\"Grafik Peningkatan Kasus Bunuh Diri per-Tahun\")\n",
        "ax = sns.lineplot(x=\"Year\", y=\"Total\", data=get, sort=True)"
      ],
      "execution_count": null,
      "outputs": [
        {
          "output_type": "display_data",
          "data": {
            "image/png": "[encoded data removed]",
            "text/plain": [
              "<Figure size 720x360 with 1 Axes>"
            ]
          },
          "metadata": {}
        }
      ]
    },
    {
      "cell_type": "markdown",
      "metadata": {
        "id": "al0p1IV-H_NH"
      },
      "source": [
        "Kasus bunuh diri mengalami peningkatan dari tahun ketahun hingga tahun 2010, setelah 2010 kasus bunuh diri menurun."
      ]
    },
    {
      "cell_type": "markdown",
      "metadata": {
        "id": "-luUBu927bve"
      },
      "source": [
        "# Heat Map"
      ]
    },
    {
      "cell_type": "code",
      "metadata": {
        "colab": {
          "base_uri": "https://localhost:8080/",
          "height": 606
        },
        "id": "-NlG4OFo7dPB",
        "outputId": "dd9e4147-c2f9-4ce8-804f-d1416fc60d3d"
      },
      "source": [
        "plt.figure(figsize=(10,5))\n",
        "c= df.corr()\n",
        "sns.heatmap(c,cmap=\"BrBG\",annot=True)\n",
        "c"
      ],
      "execution_count": null,
      "outputs": [
        {
          "output_type": "execute_result",
          "data": {
            "text/html": [
              "<div>\n",
              "<style scoped>\n",
              "    .dataframe tbody tr th:only-of-type {\n",
              "        vertical-align: middle;\n",
              "    }\n",
              "\n",
              "    .dataframe tbody tr th {\n",
              "        vertical-align: top;\n",
              "    }\n",
              "\n",
              "    .dataframe thead th {\n",
              "        text-align: right;\n",
              "    }\n",
              "</style>\n",
              "<table border=\"1\" class=\"dataframe\">\n",
              "  <thead>\n",
              "    <tr style=\"text-align: right;\">\n",
              "      <th></th>\n",
              "      <th>year</th>\n",
              "      <th>suicides_no</th>\n",
              "      <th>population</th>\n",
              "      <th>suicides/100k pop</th>\n",
              "      <th>gdp_per_capita ($)</th>\n",
              "    </tr>\n",
              "  </thead>\n",
              "  <tbody>\n",
              "    <tr>\n",
              "      <th>year</th>\n",
              "      <td>1.000000</td>\n",
              "      <td>-0.024297</td>\n",
              "      <td>-0.012628</td>\n",
              "      <td>-0.077410</td>\n",
              "      <td>0.297888</td>\n",
              "    </tr>\n",
              "    <tr>\n",
              "      <th>suicides_no</th>\n",
              "      <td>-0.024297</td>\n",
              "      <td>1.000000</td>\n",
              "      <td>0.698758</td>\n",
              "      <td>0.237169</td>\n",
              "      <td>0.105182</td>\n",
              "    </tr>\n",
              "    <tr>\n",
              "      <th>population</th>\n",
              "      <td>-0.012628</td>\n",
              "      <td>0.698758</td>\n",
              "      <td>1.000000</td>\n",
              "      <td>-0.023197</td>\n",
              "      <td>0.073701</td>\n",
              "    </tr>\n",
              "    <tr>\n",
              "      <th>suicides/100k pop</th>\n",
              "      <td>-0.077410</td>\n",
              "      <td>0.237169</td>\n",
              "      <td>-0.023197</td>\n",
              "      <td>1.000000</td>\n",
              "      <td>-0.002339</td>\n",
              "    </tr>\n",
              "    <tr>\n",
              "      <th>gdp_per_capita ($)</th>\n",
              "      <td>0.297888</td>\n",
              "      <td>0.105182</td>\n",
              "      <td>0.073701</td>\n",
              "      <td>-0.002339</td>\n",
              "      <td>1.000000</td>\n",
              "    </tr>\n",
              "  </tbody>\n",
              "</table>\n",
              "</div>"
            ],
            "text/plain": [
              "                        year  ...  gdp_per_capita ($)\n",
              "year                1.000000  ...            0.297888\n",
              "suicides_no        -0.024297  ...            0.105182\n",
              "population         -0.012628  ...            0.073701\n",
              "suicides/100k pop  -0.077410  ...           -0.002339\n",
              "gdp_per_capita ($)  0.297888  ...            1.000000\n",
              "\n",
              "[5 rows x 5 columns]"
            ]
          },
          "metadata": {},
          "execution_count": 241
        },
        {
          "output_type": "display_data",
          "data": {
            "image/png": "[encoded data removed]",
            "text/plain": [
              "<Figure size 720x360 with 2 Axes>"
            ]
          },
          "metadata": {}
        }
      ]
    }
  ]
}